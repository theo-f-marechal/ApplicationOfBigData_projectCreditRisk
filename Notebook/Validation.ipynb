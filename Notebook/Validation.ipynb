{
 "cells": [
  {
   "cell_type": "markdown",
   "metadata": {},
   "source": [
    "# Validation\n",
    "\n",
    "Importing librairies needed for the predict notebook"
   ]
  },
  {
   "cell_type": "code",
   "execution_count": 1,
   "metadata": {},
   "outputs": [],
   "source": [
    "import pickle\n",
    "import pandas as pd\n",
    "from sklearn.model_selection import train_test_split\n",
    "from sklearn.metrics import confusion_matrix, classification_report"
   ]
  },
  {
   "cell_type": "markdown",
   "metadata": {},
   "source": [
    "## Loading trained models\n",
    "\n",
    "Loading the three trained models and the final dataset"
   ]
  },
  {
   "cell_type": "code",
   "execution_count": 2,
   "metadata": {},
   "outputs": [],
   "source": [
    "xg_reg = pickle.load(open('../Model/XGBoost.pkl', \n",
    "                          'rb'))\n",
    "GradientBoosting = pickle.load(open('../Model/GradientBoOsting.pkl',\n",
    "                                    'rb'))\n",
    "RandomForest = pickle.load(open('../Model/RandomForest.pkl',\n",
    "                                'rb'))"
   ]
  },
  {
   "cell_type": "code",
   "execution_count": 3,
   "metadata": {},
   "outputs": [],
   "source": [
    "df_trimed = pd.read_csv(\"../Data/dataset_final.csv\")"
   ]
  },
  {
   "cell_type": "markdown",
   "metadata": {},
   "source": [
    "Splitting the dataset into two parts : train and test dataset"
   ]
  },
  {
   "cell_type": "code",
   "execution_count": 4,
   "metadata": {},
   "outputs": [],
   "source": [
    "x_train, x_test, y_train, y_test = train_test_split(df_trimed.loc[:,df_trimed.columns != 'TARGET'], \n",
    "                                                    df_trimed['TARGET'], \n",
    "                                                    test_size = 0.3, \n",
    "                                                    random_state = 50)"
   ]
  },
  {
   "cell_type": "markdown",
   "metadata": {},
   "source": [
    "### XGBoost model predictions, confusion matrix and classification reports"
   ]
  },
  {
   "cell_type": "code",
   "execution_count": 5,
   "metadata": {},
   "outputs": [
    {
     "data": {
      "text/plain": [
       "array([[69098,    46],\n",
       "       [ 6481,    17]], dtype=int64)"
      ]
     },
     "execution_count": 5,
     "metadata": {},
     "output_type": "execute_result"
    }
   ],
   "source": [
    "predictionsXG = xg_reg.predict(x_test)\n",
    "confusion_matrix(y_test, predictionsXG)"
   ]
  },
  {
   "cell_type": "code",
   "execution_count": 6,
   "metadata": {},
   "outputs": [
    {
     "name": "stdout",
     "output_type": "stream",
     "text": [
      "              precision    recall  f1-score   support\n",
      "\n",
      "           0       0.91      1.00      0.95     69144\n",
      "           1       0.27      0.00      0.01      6498\n",
      "\n",
      "    accuracy                           0.91     75642\n",
      "   macro avg       0.59      0.50      0.48     75642\n",
      "weighted avg       0.86      0.91      0.87     75642\n",
      "\n"
     ]
    }
   ],
   "source": [
    "print(classification_report(y_test, predictionsXG))"
   ]
  },
  {
   "cell_type": "markdown",
   "metadata": {},
   "source": [
    "### Gradient Boosting model predictions, confusion matrix and classification reports"
   ]
  },
  {
   "cell_type": "code",
   "execution_count": 8,
   "metadata": {},
   "outputs": [
    {
     "data": {
      "text/plain": [
       "array([[69143,     1],\n",
       "       [ 6498,     0]], dtype=int64)"
      ]
     },
     "execution_count": 8,
     "metadata": {},
     "output_type": "execute_result"
    }
   ],
   "source": [
    "predictionsGB = GradientBoosting.predict(x_test)\n",
    "confusion_matrix(y_test, predictionsGB)"
   ]
  },
  {
   "cell_type": "code",
   "execution_count": 9,
   "metadata": {},
   "outputs": [
    {
     "name": "stdout",
     "output_type": "stream",
     "text": [
      "              precision    recall  f1-score   support\n",
      "\n",
      "           0       0.91      1.00      0.96     69144\n",
      "           1       0.00      0.00      0.00      6498\n",
      "\n",
      "    accuracy                           0.91     75642\n",
      "   macro avg       0.46      0.50      0.48     75642\n",
      "weighted avg       0.84      0.91      0.87     75642\n",
      "\n"
     ]
    }
   ],
   "source": [
    "print(classification_report(y_test, predictionsGB))"
   ]
  },
  {
   "cell_type": "markdown",
   "metadata": {},
   "source": [
    "### Random Forest model predictions, confusion matrix and classification reports"
   ]
  },
  {
   "cell_type": "code",
   "execution_count": 10,
   "metadata": {},
   "outputs": [
    {
     "data": {
      "text/plain": [
       "array([[69144,     0],\n",
       "       [ 6497,     1]], dtype=int64)"
      ]
     },
     "execution_count": 10,
     "metadata": {},
     "output_type": "execute_result"
    }
   ],
   "source": [
    "predictionsRF = RandomForest.predict(x_test)\n",
    "confusion_matrix(y_test, predictionsRF)"
   ]
  },
  {
   "cell_type": "code",
   "execution_count": 11,
   "metadata": {},
   "outputs": [
    {
     "name": "stdout",
     "output_type": "stream",
     "text": [
      "              precision    recall  f1-score   support\n",
      "\n",
      "           0       0.91      1.00      0.96     69144\n",
      "           1       1.00      0.00      0.00      6498\n",
      "\n",
      "    accuracy                           0.91     75642\n",
      "   macro avg       0.96      0.50      0.48     75642\n",
      "weighted avg       0.92      0.91      0.87     75642\n",
      "\n"
     ]
    }
   ],
   "source": [
    "print(classification_report(y_test, predictionsRF))"
   ]
  }
 ],
 "metadata": {
  "kernelspec": {
   "display_name": "ABD",
   "language": "python",
   "name": "abd"
  },
  "language_info": {
   "codemirror_mode": {
    "name": "ipython",
    "version": 3
   },
   "file_extension": ".py",
   "mimetype": "text/x-python",
   "name": "python",
   "nbconvert_exporter": "python",
   "pygments_lexer": "ipython3",
   "version": "3.9.7"
  }
 },
 "nbformat": 4,
 "nbformat_minor": 4
}
