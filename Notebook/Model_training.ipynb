{
 "cells": [
  {
   "cell_type": "code",
   "execution_count": 13,
   "id": "0c9b920f",
   "metadata": {},
   "outputs": [],
   "source": [
    "import pandas as pd\n",
    "import xgboost as xgb\n",
    "from sklearn.metrics import confusion_matrix\n",
    "import sklearn as sk\n",
    "from sklearn.model_selection import train_test_split\n",
    "from sklearn.ensemble import GradientBoostingClassifier, RandomForestClassifier\n",
    "from sklearn.metrics import confusion_matrix, classification_report\n",
    "\n",
    "import pickle"
   ]
  },
  {
   "cell_type": "code",
   "execution_count": 2,
   "id": "9b75e791",
   "metadata": {},
   "outputs": [],
   "source": [
    "df_trimed = pd.read_csv(\"./Data/dataset_final.csv\")"
   ]
  },
  {
   "cell_type": "code",
   "execution_count": 3,
   "id": "d3749077",
   "metadata": {},
   "outputs": [],
   "source": [
    "x_train, x_test, y_train, y_test = train_test_split(df_trimed.loc[:,df_trimed.columns != 'TARGET'], df_trimed['TARGET'], test_size = 0.3, random_state = 50)"
   ]
  },
  {
   "cell_type": "code",
   "execution_count": 4,
   "id": "8c941e31",
   "metadata": {},
   "outputs": [
    {
     "name": "stderr",
     "output_type": "stream",
     "text": [
      "D:\\Anaconda\\envs\\ABD\\lib\\site-packages\\xgboost\\sklearn.py:1224: UserWarning: The use of label encoder in XGBClassifier is deprecated and will be removed in a future release. To remove this warning, do the following: 1) Pass option use_label_encoder=False when constructing XGBClassifier object; and 2) Encode your labels (y) as integers starting with 0, i.e. 0, 1, 2, ..., [num_class - 1].\n",
      "  warnings.warn(label_encoder_deprecation_msg, UserWarning)\n"
     ]
    }
   ],
   "source": [
    "xg_reg = xgb.XGBClassifier(objective ='reg:logistic')\n",
    "\n",
    "xg_reg.fit(x_train,y_train)\n",
    "\n",
    "predictions = xg_reg.predict(x_test)"
   ]
  },
  {
   "cell_type": "code",
   "execution_count": 5,
   "id": "867cd93e",
   "metadata": {},
   "outputs": [
    {
     "data": {
      "text/plain": [
       "array([[69098,    46],\n",
       "       [ 6481,    17]], dtype=int64)"
      ]
     },
     "execution_count": 5,
     "metadata": {},
     "output_type": "execute_result"
    }
   ],
   "source": [
    "confusion_matrix(y_test, predictions)"
   ]
  },
  {
   "cell_type": "code",
   "execution_count": 6,
   "id": "62367a21",
   "metadata": {},
   "outputs": [
    {
     "name": "stdout",
     "output_type": "stream",
     "text": [
      "              precision    recall  f1-score   support\n",
      "\n",
      "           0       0.91      1.00      0.95     69144\n",
      "           1       0.27      0.00      0.01      6498\n",
      "\n",
      "    accuracy                           0.91     75642\n",
      "   macro avg       0.59      0.50      0.48     75642\n",
      "weighted avg       0.86      0.91      0.87     75642\n",
      "\n"
     ]
    }
   ],
   "source": [
    "print(classification_report(y_test, predictions))"
   ]
  },
  {
   "cell_type": "code",
   "execution_count": 7,
   "id": "b31d70db",
   "metadata": {},
   "outputs": [],
   "source": [
    "GradientBosting = GradientBoostingClassifier()\n",
    "\n",
    "GradientBosting.fit(x_train,y_train)\n",
    "\n",
    "predictionsGB = GradientBosting.predict(x_test)"
   ]
  },
  {
   "cell_type": "code",
   "execution_count": 8,
   "id": "1f4ce14a",
   "metadata": {},
   "outputs": [
    {
     "data": {
      "text/plain": [
       "array([[69143,     1],\n",
       "       [ 6498,     0]], dtype=int64)"
      ]
     },
     "execution_count": 8,
     "metadata": {},
     "output_type": "execute_result"
    }
   ],
   "source": [
    "confusion_matrix(y_test, predictionsGB)"
   ]
  },
  {
   "cell_type": "code",
   "execution_count": 9,
   "id": "8b766d72",
   "metadata": {},
   "outputs": [
    {
     "name": "stdout",
     "output_type": "stream",
     "text": [
      "              precision    recall  f1-score   support\n",
      "\n",
      "           0       0.91      1.00      0.96     69144\n",
      "           1       0.00      0.00      0.00      6498\n",
      "\n",
      "    accuracy                           0.91     75642\n",
      "   macro avg       0.46      0.50      0.48     75642\n",
      "weighted avg       0.84      0.91      0.87     75642\n",
      "\n"
     ]
    }
   ],
   "source": [
    "print(classification_report(y_test, predictionsGB))"
   ]
  },
  {
   "cell_type": "code",
   "execution_count": 10,
   "id": "b28f260d",
   "metadata": {},
   "outputs": [],
   "source": [
    "RandomForest = RandomForestClassifier()\n",
    "\n",
    "RandomForest.fit(x_train, y_train)\n",
    "\n",
    "predictionsRF = RandomForest.predict(x_test)"
   ]
  },
  {
   "cell_type": "code",
   "execution_count": 11,
   "id": "2d1279aa",
   "metadata": {},
   "outputs": [
    {
     "data": {
      "text/plain": [
       "array([[69144,     0],\n",
       "       [ 6496,     2]], dtype=int64)"
      ]
     },
     "execution_count": 11,
     "metadata": {},
     "output_type": "execute_result"
    }
   ],
   "source": [
    "confusion_matrix(y_test, predictionsRF)"
   ]
  },
  {
   "cell_type": "code",
   "execution_count": 12,
   "id": "04f3241a",
   "metadata": {},
   "outputs": [
    {
     "name": "stdout",
     "output_type": "stream",
     "text": [
      "              precision    recall  f1-score   support\n",
      "\n",
      "           0       0.91      1.00      0.96     69144\n",
      "           1       1.00      0.00      0.00      6498\n",
      "\n",
      "    accuracy                           0.91     75642\n",
      "   macro avg       0.96      0.50      0.48     75642\n",
      "weighted avg       0.92      0.91      0.87     75642\n",
      "\n"
     ]
    }
   ],
   "source": [
    "print(classification_report(y_test, predictionsRF))"
   ]
  },
  {
   "cell_type": "code",
   "execution_count": 15,
   "id": "d6826b88",
   "metadata": {},
   "outputs": [],
   "source": [
    "pickle.dump(xg_reg, open(\"./Model/XGBoost\", \"wb\"))\n",
    "pickle.dump(GradientBosting, open(\"./Model/GradientBoosting\", \"wb\"))\n",
    "pickle.dump(RandomForest, open(\"./Model/RandomForest\", \"wb\"))"
   ]
  }
 ],
 "metadata": {
  "kernelspec": {
   "display_name": "ABD",
   "language": "python",
   "name": "abd"
  },
  "language_info": {
   "codemirror_mode": {
    "name": "ipython",
    "version": 3
   },
   "file_extension": ".py",
   "mimetype": "text/x-python",
   "name": "python",
   "nbconvert_exporter": "python",
   "pygments_lexer": "ipython3",
   "version": "3.9.7"
  }
 },
 "nbformat": 4,
 "nbformat_minor": 5
}
