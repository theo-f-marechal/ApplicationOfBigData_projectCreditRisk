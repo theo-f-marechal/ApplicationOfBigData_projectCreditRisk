{
 "cells": [
  {
   "cell_type": "markdown",
   "id": "894c5800",
   "metadata": {},
   "source": [
    "# Models training\n",
    "\n",
    "Importing librairies needed for the models training notebook"
   ]
  },
  {
   "cell_type": "code",
   "execution_count": 1,
   "id": "75b4bf95",
   "metadata": {},
   "outputs": [],
   "source": [
    "import pandas as pd\n",
    "import xgboost as xgb\n",
    "from sklearn.metrics import confusion_matrix\n",
    "import sklearn as sk\n",
    "from sklearn.model_selection import train_test_split\n",
    "from sklearn.ensemble import GradientBoostingClassifier, RandomForestClassifier\n",
    "from sklearn.metrics import confusion_matrix, classification_report\n",
    "import pickle"
   ]
  },
  {
   "cell_type": "markdown",
   "id": "25f3efd8",
   "metadata": {},
   "source": [
    "## Data collection\n",
    "\n",
    "Retrieve data from the file dataset_final.csv and split the dataset into two parts : training and testing parts"
   ]
  },
  {
   "cell_type": "code",
   "execution_count": 2,
   "id": "3e1ab9c7",
   "metadata": {},
   "outputs": [],
   "source": [
    "df_trimed = pd.read_csv(\"../Data/dataset_final.csv\")"
   ]
  },
  {
   "cell_type": "code",
   "execution_count": 3,
   "id": "1045d22d",
   "metadata": {},
   "outputs": [],
   "source": [
    "x_train, x_test, y_train, y_test = train_test_split(df_trimed.loc[:,df_trimed.columns != 'TARGET'], \n",
    "                                                    df_trimed['TARGET'], \n",
    "                                                    test_size = 0.3, \n",
    "                                                    random_state = 50)"
   ]
  },
  {
   "cell_type": "markdown",
   "id": "b3dda1ed",
   "metadata": {},
   "source": [
    "## XGBoost model training confusion, matrix and classification reports\n",
    "\n",
    "Create a XGBoost classifier model in order to train it with training dataset and make predictions on testing dataset"
   ]
  },
  {
   "cell_type": "code",
   "execution_count": 4,
   "id": "a5043cbe",
   "metadata": {},
   "outputs": [],
   "source": [
    "xg_reg = xgb.XGBClassifier(objective ='reg:logistic', \n",
    "                           use_label_encoder=False)\n",
    "\n",
    "xg_reg.fit(x_train,y_train)\n",
    "\n",
    "predictionsXG = xg_reg.predict(x_test)"
   ]
  },
  {
   "cell_type": "code",
   "execution_count": 5,
   "id": "27e781ab",
   "metadata": {},
   "outputs": [
    {
     "data": {
      "text/plain": [
       "array([[69098,    46],\n",
       "       [ 6481,    17]], dtype=int64)"
      ]
     },
     "execution_count": 5,
     "metadata": {},
     "output_type": "execute_result"
    }
   ],
   "source": [
    "confusion_matrix(y_test, predictionsXG)"
   ]
  },
  {
   "cell_type": "code",
   "execution_count": 6,
   "id": "ca1aa9e2",
   "metadata": {},
   "outputs": [
    {
     "name": "stdout",
     "output_type": "stream",
     "text": [
      "              precision    recall  f1-score   support\n",
      "\n",
      "           0       0.91      1.00      0.95     69144\n",
      "           1       0.27      0.00      0.01      6498\n",
      "\n",
      "    accuracy                           0.91     75642\n",
      "   macro avg       0.59      0.50      0.48     75642\n",
      "weighted avg       0.86      0.91      0.87     75642\n",
      "\n"
     ]
    }
   ],
   "source": [
    "print(classification_report(y_test, predictionsXG))"
   ]
  },
  {
   "cell_type": "markdown",
   "id": "fab94c96",
   "metadata": {},
   "source": [
    "## Gradient Boosting model training, confusion matrix and classification reports\n",
    "\n",
    "Create a Gradient Boosting classifier model in order to train it with training dataset and make predictions on testing dataset"
   ]
  },
  {
   "cell_type": "code",
   "execution_count": 7,
   "id": "d9c5551d",
   "metadata": {},
   "outputs": [],
   "source": [
    "GradientBoosting = GradientBoostingClassifier()\n",
    "\n",
    "GradientBoosting.fit(x_train,y_train)\n",
    "\n",
    "predictionsGB = GradientBoosting.predict(x_test)"
   ]
  },
  {
   "cell_type": "code",
   "execution_count": 8,
   "id": "041b481b",
   "metadata": {},
   "outputs": [
    {
     "data": {
      "text/plain": [
       "array([[69143,     1],\n",
       "       [ 6498,     0]], dtype=int64)"
      ]
     },
     "execution_count": 8,
     "metadata": {},
     "output_type": "execute_result"
    }
   ],
   "source": [
    "confusion_matrix(y_test, predictionsGB)"
   ]
  },
  {
   "cell_type": "code",
   "execution_count": 9,
   "id": "f9efccc1",
   "metadata": {},
   "outputs": [
    {
     "name": "stdout",
     "output_type": "stream",
     "text": [
      "              precision    recall  f1-score   support\n",
      "\n",
      "           0       0.91      1.00      0.96     69144\n",
      "           1       0.00      0.00      0.00      6498\n",
      "\n",
      "    accuracy                           0.91     75642\n",
      "   macro avg       0.46      0.50      0.48     75642\n",
      "weighted avg       0.84      0.91      0.87     75642\n",
      "\n"
     ]
    }
   ],
   "source": [
    "print(classification_report(y_test, predictionsGB))"
   ]
  },
  {
   "cell_type": "markdown",
   "id": "c87464ff",
   "metadata": {},
   "source": [
    "## Random Forest model training, confusion matrix and classification reports\n",
    "\n",
    "Create a Random Forest classifier model in order to train it with training dataset and make predictions on testing dataset"
   ]
  },
  {
   "cell_type": "code",
   "execution_count": 10,
   "id": "612796dc",
   "metadata": {},
   "outputs": [],
   "source": [
    "RandomForest = RandomForestClassifier()\n",
    "\n",
    "RandomForest.fit(x_train, y_train)\n",
    "\n",
    "predictionsRF = RandomForest.predict(x_test)"
   ]
  },
  {
   "cell_type": "code",
   "execution_count": 11,
   "id": "cc0ffaa6",
   "metadata": {},
   "outputs": [
    {
     "data": {
      "text/plain": [
       "array([[69144,     0],\n",
       "       [ 6495,     3]], dtype=int64)"
      ]
     },
     "execution_count": 11,
     "metadata": {},
     "output_type": "execute_result"
    }
   ],
   "source": [
    "confusion_matrix(y_test, predictionsRF)"
   ]
  },
  {
   "cell_type": "code",
   "execution_count": 12,
   "id": "991caa88",
   "metadata": {},
   "outputs": [
    {
     "name": "stdout",
     "output_type": "stream",
     "text": [
      "              precision    recall  f1-score   support\n",
      "\n",
      "           0       0.91      1.00      0.96     69144\n",
      "           1       1.00      0.00      0.00      6498\n",
      "\n",
      "    accuracy                           0.91     75642\n",
      "   macro avg       0.96      0.50      0.48     75642\n",
      "weighted avg       0.92      0.91      0.87     75642\n",
      "\n"
     ]
    }
   ],
   "source": [
    "print(classification_report(y_test, predictionsRF))"
   ]
  },
  {
   "cell_type": "markdown",
   "id": "f7c1e8d8",
   "metadata": {},
   "source": [
    "## Saving models\n",
    "\n",
    "Use library pickle to save model into .pkl format"
   ]
  },
  {
   "cell_type": "code",
   "execution_count": 14,
   "id": "6a661d17",
   "metadata": {},
   "outputs": [],
   "source": [
    "with open('../Model/XGBoost.pkl', 'wb') as file:\n",
    "    pickle.dump(xg_reg, file)\n",
    "with open('../Model/GradientBoosting.pkl', 'wb') as file:\n",
    "    pickle.dump(GradientBoosting, file)\n",
    "with open('../Model/RandomForest.pkl', 'wb') as file:\n",
    "    pickle.dump(RandomForest, file)"
   ]
  }
 ],
 "metadata": {
  "kernelspec": {
   "display_name": "ABD",
   "language": "python",
   "name": "abd"
  },
  "language_info": {
   "codemirror_mode": {
    "name": "ipython",
    "version": 3
   },
   "file_extension": ".py",
   "mimetype": "text/x-python",
   "name": "python",
   "nbconvert_exporter": "python",
   "pygments_lexer": "ipython3",
   "version": "3.9.2"
  }
 },
 "nbformat": 4,
 "nbformat_minor": 5
}
