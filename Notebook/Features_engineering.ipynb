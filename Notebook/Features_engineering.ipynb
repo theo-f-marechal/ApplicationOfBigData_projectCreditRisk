{
 "cells": [
  {
   "cell_type": "code",
   "execution_count": 1,
   "id": "fa38f9fb",
   "metadata": {},
   "outputs": [],
   "source": [
    "import pandas as pd"
   ]
  },
  {
   "cell_type": "code",
   "execution_count": 2,
   "id": "176fce30",
   "metadata": {},
   "outputs": [],
   "source": [
    "df_trimed = pd.read_csv(\"./Data/dataset_prepared.csv\")"
   ]
  },
  {
   "cell_type": "code",
   "execution_count": 3,
   "id": "bc09229d",
   "metadata": {},
   "outputs": [],
   "source": [
    "df_trimed = pd.get_dummies(data = df_trimed)"
   ]
  },
  {
   "cell_type": "code",
   "execution_count": 4,
   "id": "92867e63",
   "metadata": {},
   "outputs": [],
   "source": [
    "df_trimed.to_csv(\"./Data/dataset_final.csv\", index = False)"
   ]
  },
  {
   "cell_type": "code",
   "execution_count": null,
   "id": "7261eaf1",
   "metadata": {},
   "outputs": [],
   "source": []
  }
 ],
 "metadata": {
  "kernelspec": {
   "display_name": "ABD",
   "language": "python",
   "name": "abd"
  },
  "language_info": {
   "codemirror_mode": {
    "name": "ipython",
    "version": 3
   },
   "file_extension": ".py",
   "mimetype": "text/x-python",
   "name": "python",
   "nbconvert_exporter": "python",
   "pygments_lexer": "ipython3",
   "version": "3.9.7"
  }
 },
 "nbformat": 4,
 "nbformat_minor": 5
}
