{
 "cells": [
  {
   "cell_type": "markdown",
   "id": "deb84c4b",
   "metadata": {},
   "source": [
    "# MlFlow"
   ]
  },
  {
   "cell_type": "code",
   "execution_count": 1,
   "id": "cc6b0569",
   "metadata": {},
   "outputs": [],
   "source": [
    "import mlflow\n",
    "import pickle\n",
    "import pandas as pd\n",
    "import numpy as np\n",
    "from sklearn.model_selection import train_test_split"
   ]
  },
  {
   "cell_type": "markdown",
   "id": "2ff63910",
   "metadata": {},
   "source": [
    "### Retrieving the csv data in the notebook "
   ]
  },
  {
   "cell_type": "code",
   "execution_count": 2,
   "id": "4bae666e",
   "metadata": {},
   "outputs": [],
   "source": [
    "df_trimed = pd.read_csv(\"../Data/dataset_final.csv\")\n",
    "x_train, x_test, y_train, y_test = train_test_split(df_trimed.loc[:,df_trimed.columns != 'TARGET'], df_trimed['TARGET'], test_size = 0.3, random_state = 50)"
   ]
  },
  {
   "cell_type": "markdown",
   "id": "27ebc5c1",
   "metadata": {},
   "source": [
    "### Creation of a function train, to create logs in the MlFlow ui"
   ]
  },
  {
   "cell_type": "code",
   "execution_count": 3,
   "id": "8af7d3ef",
   "metadata": {},
   "outputs": [],
   "source": [
    "def evaluate(x_test, y_test, model):\n",
    "    import os\n",
    "    import warnings\n",
    "    import sys\n",
    "\n",
    "    import pandas as pd\n",
    "    import numpy as np\n",
    "    from sklearn.metrics import mean_squared_error, mean_absolute_error, r2_score\n",
    "\n",
    "    import mlflow\n",
    "    import mlflow.sklearn\n",
    "    \n",
    "    import logging\n",
    "    logging.basicConfig(level=logging.WARN)\n",
    "    logger = logging.getLogger(__name__)\n",
    "\n",
    "    def eval_metrics(actual, pred):\n",
    "        rmse = np.sqrt(mean_squared_error(actual, pred))\n",
    "        mae = mean_absolute_error(actual, pred)\n",
    "        r2 = r2_score(actual, pred)\n",
    "        return rmse, mae, r2\n",
    "\n",
    "    with mlflow.start_run():\n",
    "\n",
    "        # Evaluate Metrics\n",
    "        predicted_qualities = model.predict(x_test)\n",
    "        (rmse, mae, r2) = eval_metrics(y_test, predicted_qualities)\n",
    "\n",
    "        # Print out metrics\n",
    "        print(\"  RMSE: %s\" % rmse)\n",
    "        print(\"  MAE: %s\" % mae)\n",
    "        print(\"  R2: %s\" % r2)\n",
    "\n",
    "        # Log parameter, metrics, and model to MLflow\n",
    "        mlflow.log_metric(\"rmse\", rmse)\n",
    "        mlflow.log_metric(\"r2\", r2)\n",
    "        mlflow.log_metric(\"mae\", mae)\n",
    "\n",
    "        mlflow.sklearn.log_model(model, \"model\")"
   ]
  },
  {
   "cell_type": "markdown",
   "id": "4cec5fc7",
   "metadata": {},
   "source": [
    "### Definition of the URL of MlFlow logs"
   ]
  },
  {
   "cell_type": "code",
   "execution_count": 11,
   "id": "532a4af6",
   "metadata": {},
   "outputs": [],
   "source": [
    "mlflow.set_tracking_uri(\"http://localhost:5000\") ## Use the web-link in the uri to open the mlflow ui"
   ]
  },
  {
   "cell_type": "markdown",
   "id": "8e2bc4cd",
   "metadata": {},
   "source": [
    "### Use of the train definition"
   ]
  },
  {
   "cell_type": "code",
   "execution_count": 12,
   "id": "5181897f",
   "metadata": {},
   "outputs": [
    {
     "name": "stdout",
     "output_type": "stream",
     "text": [
      "Elasticnet model (alpha=0.500000, l1_ratio=0.500000):\n",
      "  RMSE: 0.27842508330150295\n",
      "  MAE: 0.15617360468733568\n",
      "  R2: 0.012792341214732716\n"
     ]
    }
   ],
   "source": [
    "XGBoost = pickle.load(open('../Model/XGBoost.pkl', 'rb'))\n",
    "run = evaluate(x_test, y_test, XGBoost)\n",
    "run"
   ]
  }
 ],
 "metadata": {
  "kernelspec": {
   "display_name": "ABD",
   "language": "python",
   "name": "abd"
  },
  "language_info": {
   "codemirror_mode": {
    "name": "ipython",
    "version": 3
   },
   "file_extension": ".py",
   "mimetype": "text/x-python",
   "name": "python",
   "nbconvert_exporter": "python",
   "pygments_lexer": "ipython3",
   "version": "3.9.7"
  }
 },
 "nbformat": 4,
 "nbformat_minor": 5
}
