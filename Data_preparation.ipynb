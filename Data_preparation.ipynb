{
 "cells": [
  {
   "cell_type": "code",
   "execution_count": null,
   "metadata": {},
   "outputs": [],
   "source": [
    "import pandas as pd\n",
    "import numpy as np"
   ]
  },
  {
   "cell_type": "code",
   "execution_count": null,
   "metadata": {},
   "outputs": [],
   "source": [
    "df_train = pd.read_csv(\"application_train.csv\")\n",
    "df_test = pd.read_csv(\"application_test.csv\")"
   ]
  },
  {
   "cell_type": "code",
   "execution_count": null,
   "metadata": {},
   "outputs": [],
   "source": [
    "df_trimed = df_train.drop(\n",
    "    columns=[\n",
    "    \"SK_ID_CURR\",\n",
    "    \"FLAG_OWN_REALTY\",\n",
    "    \"FLAG_OWN_CAR\",\n",
    "    \"REGION_POPULATION_RELATIVE\",\n",
    "    \"FLAG_MOBIL\",\"FLAG_EMP_PHONE\",\n",
    "    \"FLAG_WORK_PHONE\",\n",
    "    \"FLAG_PHONE\",\n",
    "    \"FLAG_EMAIL\",\n",
    "    \"REGION_RATING_CLIENT\",\n",
    "    \"WEEKDAY_APPR_PROCESS_START\",\n",
    "    \"HOUR_APPR_PROCESS_START\",\n",
    "    \"REG_REGION_NOT_LIVE_REGION\",\n",
    "    \"LIVE_REGION_NOT_WORK_REGION\",\n",
    "    \"REG_CITY_NOT_LIVE_CITY\",\n",
    "    \"REG_CITY_NOT_WORK_CITY\",\n",
    "    \"LIVE_CITY_NOT_WORK_CITY\",\n",
    "    \"EXT_SOURCE_1\",\n",
    "    \"EXT_SOURCE_2\",\n",
    "    \"EXT_SOURCE_3\",\n",
    "    \"APARTMENTS_AVG\",\n",
    "    \"BASEMENTAREA_AVG\",\n",
    "    \"YEARS_BEGINEXPLUATATION_AVG\",\n",
    "    \"YEARS_BUILD_AVG\",\n",
    "    \"COMMONAREA_AVG\",\n",
    "    \"ELEVATORS_AVG\",\n",
    "    \"ENTRANCES_AVG\",\n",
    "    \"FLOORSMAX_AVG\",\n",
    "    \"FLOORSMIN_AVG\",\n",
    "    \"LANDAREA_AVG\",\n",
    "    \"LIVINGAPARTMENTS_AVG\",\n",
    "    \"LIVINGAREA_AVG\",\n",
    "    \"NONLIVINGAPARTMENTS_AVG\",\n",
    "    \"NONLIVINGAREA_AVG\",\n",
    "    \"APARTMENTS_MODE\",\n",
    "    \"BASEMENTAREA_MODE\",\n",
    "    \"YEARS_BEGINEXPLUATATION_MODE\",\n",
    "    \"YEARS_BUILD_MODE\",\n",
    "    \"COMMONAREA_MODE\",\n",
    "    \"ELEVATORS_MODE\",\n",
    "    \"ENTRANCES_MODE\",\n",
    "    \"FLOORSMAX_MODE\",\n",
    "    \"FLOORSMIN_MODE\",\n",
    "    \"LANDAREA_MODE\",\n",
    "    \"LIVINGAPARTMENTS_MODE\",\n",
    "    \"LIVINGAREA_MODE\",\n",
    "    \"NONLIVINGAPARTMENTS_MODE\",\n",
    "    \"NONLIVINGAREA_MODE\",\n",
    "    \"APARTMENTS_MEDI\",\n",
    "    \"BASEMENTAREA_MEDI\",\n",
    "    \"YEARS_BEGINEXPLUATATION_MEDI\",\n",
    "    \"YEARS_BUILD_MEDI\",\n",
    "    \"COMMONAREA_MEDI\",\n",
    "    \"ELEVATORS_MEDI\",\n",
    "    \"ENTRANCES_MEDI\",\n",
    "    \"FLOORSMAX_MEDI\",\n",
    "    \"FLOORSMIN_MEDI\",\n",
    "    \"LANDAREA_MEDI\",\n",
    "    \"LIVINGAPARTMENTS_MEDI\",\n",
    "    \"LIVINGAREA_MEDI\",\n",
    "    \"NONLIVINGAPARTMENTS_MEDI\",\n",
    "    \"NONLIVINGAREA_MEDI\",\n",
    "    \"FONDKAPREMONT_MODE\",\n",
    "    \"TOTALAREA_MODE\",\n",
    "    \"WALLSMATERIAL_MODE\",\n",
    "    \"EMERGENCYSTATE_MODE\",\n",
    "    \"OBS_30_CNT_SOCIAL_CIRCLE\",\n",
    "    \"DEF_30_CNT_SOCIAL_CIRCLE\",\n",
    "    \"DAYS_LAST_PHONE_CHANGE\",\n",
    "    \"FLAG_DOCUMENT_2\",\n",
    "    \"FLAG_DOCUMENT_3\",\n",
    "    \"FLAG_DOCUMENT_4\",\n",
    "    \"FLAG_DOCUMENT_5\",\n",
    "    \"FLAG_DOCUMENT_6\",\n",
    "    \"FLAG_DOCUMENT_7\",\n",
    "    \"FLAG_DOCUMENT_8\",\n",
    "    \"FLAG_DOCUMENT_9\",\n",
    "    \"FLAG_DOCUMENT_10\",\n",
    "    \"FLAG_DOCUMENT_11\",\n",
    "    \"FLAG_DOCUMENT_12\",\n",
    "    \"FLAG_DOCUMENT_13\",\n",
    "    \"FLAG_DOCUMENT_14\",\n",
    "    \"FLAG_DOCUMENT_15\",\n",
    "    \"FLAG_DOCUMENT_16\",\n",
    "    \"FLAG_DOCUMENT_17\",\n",
    "    \"FLAG_DOCUMENT_18\",\n",
    "    \"FLAG_DOCUMENT_19\",\n",
    "    \"FLAG_DOCUMENT_20\",\n",
    "    \"FLAG_DOCUMENT_21\",\n",
    "    \"AMT_REQ_CREDIT_BUREAU_HOUR\",\n",
    "    \"AMT_REQ_CREDIT_BUREAU_DAY\",\n",
    "    \"AMT_REQ_CREDIT_BUREAU_WEEK\",\n",
    "    \"AMT_REQ_CREDIT_BUREAU_MON\",\n",
    "    \"AMT_REQ_CREDIT_BUREAU_QRT\"\n",
    "])\n",
    "df_trimed"
   ]
  },
  {
   "cell_type": "code",
   "execution_count": null,
   "metadata": {},
   "outputs": [],
   "source": [
    "df_trimed['OWN_CAR_AGE'] = df_trimed['OWN_CAR_AGE'].fillna(-1)\n",
    "df_trimed[['AMT_ANNUITY', 'AMT_GOODS_PRICE', 'CNT_FAM_MEMBERS', 'OBS_60_CNT_SOCIAL_CIRCLE', 'DEF_60_CNT_SOCIAL_CIRCLE', 'AMT_REQ_CREDIT_BUREAU_YEAR']] = df_trimed[['AMT_ANNUITY', 'AMT_GOODS_PRICE', 'CNT_FAM_MEMBERS', 'OBS_60_CNT_SOCIAL_CIRCLE', 'DEF_60_CNT_SOCIAL_CIRCLE', 'AMT_REQ_CREDIT_BUREAU_YEAR']].fillna(0)"
   ]
  },
  {
   "cell_type": "code",
   "execution_count": null,
   "metadata": {},
   "outputs": [],
   "source": [
    "df_trimed[['DAYS_BIRTH', 'DAYS_EMPLOYED', 'DAYS_REGISTRATION', 'DAYS_ID_PUBLISH']] = df_trimed.loc[:,['DAYS_BIRTH', 'DAYS_EMPLOYED', 'DAYS_REGISTRATION', 'DAYS_ID_PUBLISH']] *  -1\n",
    "df_trimed"
   ]
  },
  {
   "cell_type": "code",
   "execution_count": null,
   "metadata": {},
   "outputs": [],
   "source": [
    "df_trimed = df_trimed[(df_trimed[['DAYS_BIRTH', 'DAYS_EMPLOYED', 'DAYS_REGISTRATION', 'DAYS_ID_PUBLISH']] >= 0).all(axis=1)]\n",
    "df_trimed"
   ]
  }
 ],
 "metadata": {
  "kernelspec": {
   "display_name": "Python 3",
   "language": "python",
   "name": "python3"
  },
  "language_info": {
   "codemirror_mode": {
    "name": "ipython",
    "version": 3
   },
   "file_extension": ".py",
   "mimetype": "text/x-python",
   "name": "python",
   "nbconvert_exporter": "python",
   "pygments_lexer": "ipython3",
   "version": "3.8.6"
  }
 },
 "nbformat": 4,
 "nbformat_minor": 4
}
